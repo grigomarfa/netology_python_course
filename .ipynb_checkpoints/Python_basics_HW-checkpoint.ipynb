{
 "cells": [
  {
   "cell_type": "markdown",
   "metadata": {},
   "source": [
    "**Задание 1**. Даны 2 строки: *long_phrase* и *short_phrase*. \n",
    "Напишите код, который проверяет действительно ли длинная фраза *long_phrase* длиннее короткой *short_phrase*. И выводит *True* или *False* в зависимости от результата сравнения."
   ]
  },
  {
   "cell_type": "code",
   "execution_count": 4,
   "metadata": {},
   "outputs": [
    {
     "name": "stdout",
     "output_type": "stream",
     "text": [
      "True\n"
     ]
    }
   ],
   "source": [
    "long_phrase = 'Насколько проще было бы писать программы, если бы не заказчики'\n",
    "short_phrase = '640Кб должно хватить для любых задач. Билл Гейтс (по легенде)'\n",
    "print(len(long_phrase) > len(short_phrase))"
   ]
  },
  {
   "cell_type": "markdown",
   "metadata": {},
   "source": [
    "**Задание 2**. Дано значение объема файла в байтах (*в мегабайте 2^20 байт*). Напишите перевод этого значения в мегабайты в формате: \"*Объем файла равен 213.68Mb*\"."
   ]
  },
  {
   "cell_type": "code",
   "execution_count": 6,
   "metadata": {},
   "outputs": [
    {
     "name": "stdout",
     "output_type": "stream",
     "text": [
      "Введите объем файла в байтах: 1000000\n",
      "Объем файла равен  0.95367431640625 Mb\n"
     ]
    }
   ],
   "source": [
    "number = int(input('Введите объем файла в байтах: '))\n",
    "\n",
    "result = number / 2**20\n",
    "\n",
    "print('Объем файла равен ', result, 'Mb')"
   ]
  },
  {
   "cell_type": "markdown",
   "metadata": {},
   "source": [
    "**Задание 3**. Разработать приложение для определения знака зодиака по дате рождения. Пример:\n",
    "\n",
    "Введите месяц: март\n",
    "\n",
    "Введите число: 6\n",
    "\n",
    "Вывод:\n",
    "Рыбы"
   ]
  },
  {
   "cell_type": "code",
   "execution_count": 7,
   "metadata": {},
   "outputs": [
    {
     "name": "stdout",
     "output_type": "stream",
     "text": [
      "Введите месяц рождения:декабрь\n",
      "Введите число:3\n",
      "Стрелец\n"
     ]
    }
   ],
   "source": [
    "month = input('Введите месяц рождения:')\n",
    "date = int(input('Введите число:'))\n",
    "\n",
    "if month == 'декабрь' and date >= 23 or month == 'январь' and date <= 20:\n",
    "    print('Козерог')\n",
    "elif month == 'январь' and date >= 21 or month == 'февраль' and date <= 19:\n",
    "    print('Водолей')\n",
    "elif month == 'февраль' and date >= 20 or month == 'март' and date <= 20:\n",
    "    print('Рыбы')\n",
    "elif month == 'март' and date >= 21 or month == 'апрель' and date <= 20:\n",
    "    print('Овен')\n",
    "elif month == 'апрель' and date >= 21 or month == 'май' and date <= 21:\n",
    "    print('Телец')\n",
    "elif month == 'май' and date >= 22 or month == 'июнь' and date <= 21:\n",
    "    print('Близнецы')\n",
    "elif month == 'июнь' and date >= 22 or month == 'июль' and date <= 22:\n",
    "    print('Рак')\n",
    "elif month == 'июль' and date >= 23 or month == 'август' and date <= 23:\n",
    "    print('Лев')\n",
    "elif month == 'август' and date >= 24 or month == 'сентябрь' and date <= 23:\n",
    "    print('Дева')\n",
    "elif month == 'сентябрь' and date >= 24 or month == 'октябрь' and date <= 23:\n",
    "    print('Весы')\n",
    "elif month == 'октябрь' and date >= 24 or month == 'ноябрь' and date <= 22:\n",
    "    print('Скорпион')\n",
    "elif month == 'ноябрь' and date >= 23 or month == 'декабрь' and date <= 22:\n",
    "    print('Стрелец')\n",
    "else:\n",
    "    print('Ошибка')"
   ]
  },
  {
   "cell_type": "markdown",
   "metadata": {},
   "source": [
    "**Задание 4**. Нужно разработать приложение для финансового планирования.\n",
    "Приложение учитывает сколько уходит на ипотеку, \"на жизнь\" и сколько нужно отложить на пенсию.\n",
    "Пользователь вводит:\n",
    "- заработанную плату в месяц.\n",
    "- сколько процентов от ЗП уходит на ипотеку.\n",
    "- сколько процентов от ЗП уходит \"на жизнь\".\n",
    "- сколько раз приходит премия в год.\n",
    "\n",
    "Остальная часть заработанной платы откладывается на пенсию.\n",
    "\n",
    "Также пользователю приходит премия в размере зарплаты, от которой половина уходит на отпуск, а вторая половина откладывается.\n",
    "\n",
    "Программа должна учитывать сколько премий было в год.\n",
    "\n",
    "Нужно вывести сколько денег тратит пользователь на ипотеку и сколько он накопит за год.\n",
    "\n",
    "Пример:\n",
    "\n",
    "Введите заработанную плату в месяц: 100000\n",
    "\n",
    "Введите сколько процентов уходит на ипотеку: 30\n",
    "\n",
    "Введите сколько процентов уходит на жизнь: 50\n",
    "\n",
    "Введите количество премий за год: 2\n",
    "\n",
    "Вывод:\n",
    "На ипотеку было потрачено: 360000 рублей\n",
    "Было накоплено: 340000 рублей"
   ]
  },
  {
   "cell_type": "code",
   "execution_count": 34,
   "metadata": {},
   "outputs": [
    {
     "name": "stdout",
     "output_type": "stream",
     "text": [
      "Введите заработанную плату в месяц:100000\n",
      "Сколько процентов уходит на ипотеку:30\n",
      "Сколько процентов уходит на жизнь:50\n",
      "Введите количество премий за год:2\n",
      "На ипотеку было потрачено: 360000 рублей. Было накоплено: 340000 рублей\n"
     ]
    }
   ],
   "source": [
    "monthly_salary = int(input('Введите заработанную плату в месяц:'))\n",
    "mortgage = int(input('Сколько процентов уходит на ипотеку:'))\n",
    "life = int(input('Сколько процентов уходит на жизнь:'))\n",
    "bonuses = int(input('Введите количество премий за год:'))\n",
    "\n",
    "annual_salary = monthly_salary * 12\n",
    "annual_mortgage_spendings = round((annual_salary * mortgage) / 100)\n",
    "annual_life_spendings = (annual_salary * life) / 100\n",
    "\n",
    "salary_savings = annual_salary - (annual_mortgage_spendings + annual_life_spendings)\n",
    "bonus_savings = (monthly_salary * bonuses / 2)\n",
    "total_savings = round(salary_savings + bonus_savings)\n",
    "                   \n",
    "print('На ипотеку было потрачено:', annual_mortgage_spendings, 'рублей. Было накоплено:', total_savings, 'рублей')"
   ]
  }
 ],
 "metadata": {
  "kernelspec": {
   "display_name": "Python 3",
   "language": "python",
   "name": "python3"
  },
  "language_info": {
   "codemirror_mode": {
    "name": "ipython",
    "version": 3
   },
   "file_extension": ".py",
   "mimetype": "text/x-python",
   "name": "python",
   "nbconvert_exporter": "python",
   "pygments_lexer": "ipython3",
   "version": "3.7.6"
  }
 },
 "nbformat": 4,
 "nbformat_minor": 2
}

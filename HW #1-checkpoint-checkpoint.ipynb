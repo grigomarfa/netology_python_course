{
 "cells": [
  {
   "cell_type": "markdown",
   "metadata": {},
   "source": [
    "Задание 1. Даны 2 строки: long_phrase и short_phrase. \n",
    "Напишите код, который проверяет действительно ли длинная фраза long_phrase длиннее короткой short_phrase. \n",
    "И выводит True или False в зависимости от результата сравнения."
   ]
  },
  {
   "cell_type": "code",
   "execution_count": 29,
   "metadata": {},
   "outputs": [
    {
     "name": "stdout",
     "output_type": "stream",
     "text": [
      "False\n"
     ]
    }
   ],
   "source": [
    "long_phrase = 'Насколько проще было бы писать программы, если бы не заказчик',\n",
    "short_phrase = '640Кб должно хватить для любых задач. Билл Гейтс (по легенде)'\n",
    "print (len(long_phrase) > len(short_phrase))"
   ]
  },
  {
   "cell_type": "markdown",
   "metadata": {},
   "source": [
    "Задание 2. \n",
    "Дано значение объема файла в байтах (в мегабайте 2^20 байт). Напишите перевод этого значения в мегабайты в формате: \n",
    "\"Объем файла равен 213.68Mb\"."
   ]
  },
  {
   "cell_type": "code",
   "execution_count": 4,
   "metadata": {},
   "outputs": [
    {
     "name": "stdout",
     "output_type": "stream",
     "text": [
      "Введите объем файла в байтах: 150\n",
      "Объем файла равен  0.0001430511474609375 Mb\n"
     ]
    }
   ],
   "source": [
    "number = int(input('Введите объем файла в байтах: '))\n",
    "\n",
    "result = number / 2**20\n",
    "\n",
    "print ('Объем файла равен ', result, 'Mb')"
   ]
  },
  {
   "cell_type": "markdown",
   "metadata": {},
   "source": [
    "Задание 3. Разработать приложение для определения знака зодиака по дате рождения. Пример:\n",
    "\n",
    "Введите месяц: март\n",
    "\n",
    "Введите число: 6\n",
    "\n",
    "Вывод: Рыбы"
   ]
  },
  {
   "cell_type": "code",
   "execution_count": 2,
   "metadata": {},
   "outputs": [
    {
     "name": "stdout",
     "output_type": "stream",
     "text": [
      "Введите месяц: март\n",
      "Введите число: 6\n",
      "Рыбы\n"
     ]
    }
   ],
   "source": [
    "month = input('Введите месяц: ')\n",
    "date = int(input('Введите число: '))\n",
    "\n",
    "if month == 'март' and date == 6:\n",
    "    print('Рыбы')"
   ]
  },
  {
   "cell_type": "markdown",
   "metadata": {},
   "source": [
    "Задание 4. Нужно разработать приложение для финансового планирования. Приложение учитывает сколько уходит на ипотеку, \"на жизнь\" и сколько нужно отложить на пенсию. Пользователь вводит:\n",
    "\n",
    "заработанную плату в месяц.\n",
    "сколько процентов от ЗП уходит на ипотеку.\n",
    "сколько процентов от ЗП уходит \"на жизнь\".\n",
    "сколько раз приходит премия в год.\n",
    "Остальная часть заработанной платы откладывается на пенсию.\n",
    "\n",
    "Также пользователю приходит премия в размере зарплаты, от которой половина уходит на отпуск, а вторая половина откладывается.\n",
    "\n",
    "Программа должна учитывать сколько премий было в год.\n",
    "\n",
    "Нужно вывести сколько денег тратит пользователь на ипотеку и сколько он накопит за год.\n",
    "\n",
    "Пример:\n",
    "\n",
    "Введите заработанную плату в месяц: 100000\n",
    "\n",
    "Введите сколько процентов уходит на ипотеку: 30\n",
    "\n",
    "Введите сколько процентов уходит на жизнь: 50\n",
    "\n",
    "Введите количество премий за год: 2\n",
    "\n",
    "Вывод: На ипотеку было потрачено: 360000 рублей Было накоплено: 340000 рублей"
   ]
  },
  {
   "cell_type": "code",
   "execution_count": 4,
   "metadata": {},
   "outputs": [
    {
     "name": "stdout",
     "output_type": "stream",
     "text": [
      "Введите заработанную плату в месяц: 100000\n",
      "Введите сколько процентов уходит на ипотеку: 30\n",
      "Введите сколько процентов уходит на жизнь: 50\n",
      "Введите количество премий за год: 2\n",
      "На ипотеку было потрачено:  360000.0\n",
      "Было накоплено:  340000.0\n"
     ]
    }
   ],
   "source": [
    "a = int(input('Введите заработанную плату в месяц: '))\n",
    "b = int(input('Введите сколько процентов уходит на ипотеку: '))\n",
    "c = int(input('Введите сколько процентов уходит на жизнь: '))\n",
    "d = int(input('Введите количество премий за год: '))\n",
    "\n",
    "#Также пользователю приходит премия в размере зарплаты, от которой половина уходит на отпуск, а вторая половина откладывается.\n",
    "\n",
    "annual_salary = a * 12\n",
    "morgage = (annual_salary * b) / 100\n",
    "life = (annual_salary * c) / 100\n",
    "\n",
    "salary_savings = annual_salary - (morgage + life)\n",
    "\n",
    "annual_bonus = a * d\n",
    "vacation = annual_bonus / 2\n",
    "bonus_savings = annual_bonus - vacation\n",
    "\n",
    "total_savings = salary_savings + bonus_savings\n",
    "\n",
    "print('На ипотеку было потрачено: ', morgage)\n",
    "print('Было накоплено: ', total_savings)"
   ]
  },
  {
   "cell_type": "code",
   "execution_count": 3,
   "metadata": {},
   "outputs": [
    {
     "name": "stdout",
     "output_type": "stream",
     "text": [
      "22\n"
     ]
    }
   ],
   "source": []
  },
  {
   "cell_type": "code",
   "execution_count": null,
   "metadata": {},
   "outputs": [],
   "source": []
  }
 ],
 "metadata": {
  "kernelspec": {
   "display_name": "Python 3",
   "language": "python",
   "name": "python3"
  },
  "language_info": {
   "codemirror_mode": {
    "name": "ipython",
    "version": 3
   },
   "file_extension": ".py",
   "mimetype": "text/x-python",
   "name": "python",
   "nbconvert_exporter": "python",
   "pygments_lexer": "ipython3",
   "version": "3.7.4"
  }
 },
 "nbformat": 4,
 "nbformat_minor": 2
}
